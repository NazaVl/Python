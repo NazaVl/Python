{
  "cells": [
    {
      "cell_type": "markdown",
      "metadata": {
        "id": "FMqboNwO4rVs"
      },
      "source": [
        "# **Курс \"Програмування на мові Python\"**"
      ]
    },
    {
      "cell_type": "markdown",
      "metadata": {
        "id": "A2T6MigL5Z06"
      },
      "source": [
        "## **Практичне зайняття №10**\n",
        "\n",
        "### Тема: \"Лямбда-функції. Функції вищих порядків\""
      ]
    },
    {
      "cell_type": "markdown",
      "metadata": {
        "id": "cfCdgK2zXm7e"
      },
      "source": [
        "### **Завдання 1 (1 бал)**\n",
        "\n",
        "Продавець роздрібного товару влаштовує розпродаж. Для всіх товарів знижка однакова - 60%. Щоб вивісити нові цінники, продавець хоче скласти таблицю, в якій для кожного товару буде підрахована його нова вартість та сума знижки.\n",
        "\n",
        "Написати програму, яка буде генерувати таку таблицю. Вартість одиниць товарів до розпродажу подано у списку products_list. \n",
        "\n",
        "1. Для підрахунку невідомих значень повинні використовуватись вбудовані функції вищих порядків.\n",
        "\n",
        "2. Вартість з урахуванням знижки та суми знижок для кожного товару повинні зберігатись у двох окремих списках. Порядок товарів у нових списках повинен бути такий самий, як і в списку products_list.\n",
        "\n",
        "3. Кожне підраховане числове значення має бути округлене до сотих.\n",
        "\n",
        "4. Дані повинні виводитись у вигляді:\n",
        "\n",
        "**Discount table:**\n",
        "\n",
        "**15.89 6.36 9.53**\n",
        "\n",
        "**39.99 16.0 23.99**\n",
        "\n",
        "**...**\n",
        "\n",
        "\n",
        "products_list = [15.89, 39.99, 82.10, 135.85, 318.90, 510.00, 799.98]"
      ]
    },
    {
      "cell_type": "code",
      "execution_count": 7,
      "metadata": {
        "id": "ifNX2M7LXm7f"
      },
      "outputs": [
        {
          "name": "stdout",
          "output_type": "stream",
          "text": [
            "Old value:\n",
            "15.89 39.99 82.1\n",
            "135.85 318.9 510.0\n",
            "799.98 \n",
            "----------\n",
            "New value:\n",
            "9.53 23.99 49.26\n",
            "81.51 191.34 306.0\n",
            "479.99 \n",
            "----------\n",
            "Discount:\n",
            "6.36 16.0 32.84\n",
            "54.34 127.56 204.0\n",
            "319.99 \n"
          ]
        }
      ],
      "source": [
        "n = 3\n",
        "n_discount = 0.6\n",
        "products_list = [15.89, 39.99, 82.10, 135.85, 318.90, 510.00, 799.98]\n",
        "new_value = list(map(lambda x, n_discount: round(x*n_discount,2), products_list))\n",
        "sum_discount = list(map(lambda x, y: round(x - y,2), products_list, new_value))\n",
        "\n",
        "def output(output_list, n):\n",
        "    str_output = ''\n",
        "    is_all_item_list = []\n",
        "    for item in output_list:\n",
        "        if output_list.index(item)%n == n-1:\n",
        "            str_output += str(item)\n",
        "            is_all_item_list.append(item)\n",
        "            print(str_output)\n",
        "            str_output = ''\n",
        "        else:\n",
        "            str_output += str(item) + str(' ')\n",
        "            is_all_item_list.append(item)\n",
        "    if is_all_item_list != output_list:\n",
        "        str_output = ''\n",
        "        for item in output_list:\n",
        "            if (item in is_all_item_list) == False:\n",
        "                str_output += str(item) + str(' ')\n",
        "    print(str_output)\n",
        "\n",
        "\n",
        "print('Old value:')\n",
        "output(products_list, n)\n",
        "print('-'*10)\n",
        "print('New value:')\n",
        "output(new_value, n)\n",
        "print('-'*10)\n",
        "print('Discount:')\n",
        "output(sum_discount, n)"
      ]
    },
    {
      "cell_type": "markdown",
      "metadata": {},
      "source": [
        "### **Завдання 2 (2 бали)**\n",
        "\n",
        "Зазвичай рік має 365 днів. Однак у високосні роки додається ще один день - 29 лютого. Правила визначення високосного року такі:\n",
        "\n",
        "- Будь-який рік, що ділиться на 400 - високосний.\n",
        "\n",
        "- З тих років, що залишились, будь-який рік, що ділиться на 100 - **не** високосний.\n",
        "\n",
        "- З тих років, що залишились, будь-який рік, що ділиться на 4 - високосний.\n",
        "\n",
        "- Усі інші роки, що залишились - **не** високосні.\n",
        "\n",
        "1) Створіть функцію, в якій за допомогою вбудованих функцій вищих порядків будуть визначатися високосні роки серед перелічених років у списку years. Створена функція має повертати список високосних років.\n",
        "\n",
        "2) Створіть функцію вищих порядків, яка прийматиме на вхід попередню функцію та визначатиме кількість днів у місяці. Також функція повинна приймати на вхід ще 2 параметри: ціле число від 1 до 12 (місяць) та рік, як ціле чотирицифрове число. Ці значення корисувач має вводити з клавіатури. Перевірку введених даних слід виконувати поза межами функцій."
      ]
    },
    {
      "cell_type": "code",
      "execution_count": 8,
      "metadata": {},
      "outputs": [
        {
          "name": "stdout",
          "output_type": "stream",
          "text": [
            "Days:\n",
            "29\n"
          ]
        }
      ],
      "source": [
        "import numpy as np\n",
        "import calendar\n",
        "from calendar import monthrange\n",
        "\n",
        "\n",
        "years = np.arange(1900, 2020+1, 1)\n",
        "\n",
        "\n",
        "def years_leap(years):\n",
        "    '''\n",
        "    The function return list of leap years\n",
        "    '''\n",
        "    leap_years = list(filter(lambda x: x%4==0 and x%100!=0, years))\n",
        "    for item in list(filter(lambda x: x%100==0 and x%16==0, years)):\n",
        "        leap_years.append(item)\n",
        "    leap_years.sort()\n",
        "    \n",
        "    return leap_years\n",
        "\n",
        "\n",
        "def days_in_month(years_leap, year, month):\n",
        "    if year in years_leap:\n",
        "        print('Days:\\n' + str(monthrange(year, month)[1]))\n",
        "    else:\n",
        "        print('Error, this year isn`t leap')\n",
        "\n",
        "\n",
        "def is_true_input(n):\n",
        "    '''\n",
        "    The function check input\n",
        "    '''\n",
        "    try:\n",
        "        n = int(n)\n",
        "        return True\n",
        "    except ValueError:\n",
        "        print('Error')\n",
        "        return False\n",
        "\n",
        "\n",
        "month = input('month is: ')\n",
        "while not is_true_input(month):\n",
        "    month = input('month is: ')\n",
        "month = int(month)\n",
        "\n",
        "\n",
        "year = input('year is: ')\n",
        "while not is_true_input(year):\n",
        "    year = input('year is: ')\n",
        "year = int(year)\n",
        "\n",
        "\n",
        "days_in_month(years_leap(years), year, month)"
      ]
    }
  ],
  "metadata": {
    "colab": {
      "collapsed_sections": [],
      "name": "Practice_7_KM-01_.ipynb",
      "provenance": []
    },
    "kernelspec": {
      "display_name": "Python 3.10.9 64-bit (microsoft store)",
      "language": "python",
      "name": "python3"
    },
    "language_info": {
      "codemirror_mode": {
        "name": "ipython",
        "version": 3
      },
      "file_extension": ".py",
      "mimetype": "text/x-python",
      "name": "python",
      "nbconvert_exporter": "python",
      "pygments_lexer": "ipython3",
      "version": "3.10.9"
    },
    "vscode": {
      "interpreter": {
        "hash": "3b7e9cb8e453d6cda0fe8c8dd13f891a1f09162f0e7c66ffeae7751a7aecf00d"
      }
    }
  },
  "nbformat": 4,
  "nbformat_minor": 0
}
