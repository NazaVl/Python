{
  "cells": [
    {
      "cell_type": "markdown",
      "metadata": {
        "id": "FMqboNwO4rVs"
      },
      "source": [
        "# **Курс \"Програмування на мові Python\"**"
      ]
    },
    {
      "attachments": {},
      "cell_type": "markdown",
      "metadata": {
        "id": "A2T6MigL5Z06"
      },
      "source": [
        "## **Практичні зайняття №15-16**\n",
        "\n",
        "### Тема: \"Ітератори та генератори. Декоратори\""
      ]
    },
    {
      "cell_type": "markdown",
      "metadata": {
        "id": "cfCdgK2zXm7e"
      },
      "source": [
        "### **Завдання 1 (2 бали)**\n",
        "\n",
        "Розрахуйте коефієнти розкладу [біному Ньютона](https://uk.wikipedia.org/wiki/%D0%91%D1%96%D0%BD%D0%BE%D0%BC_%D0%9D%D1%8C%D1%8E%D1%82%D0%BE%D0%BD%D0%B0) за допомогою генератора.\n",
        "\n",
        "1. Степінь многочлена користувач має вводити з клавіатури (невід'ємне ціле число).\n",
        "\n",
        "2. Програма має підраховувати біноміальні коефіцієнти для біномів усіх степенів, починаючи від 0 і закінчуючи тим, який ввів користувач.\n",
        "\n",
        "3. Коефіцієнти мають виводитись у вигляді трикутника Паскаля.\n",
        "\n",
        "Наприклад, якщо користувач введе число 5, програма має вивести результат:\n",
        "\n",
        "1\n",
        "\n",
        "1 1\n",
        "\n",
        "1 2 1\n",
        "\n",
        "1 3 3 1\n",
        "\n",
        "1 4 6 4 1\n",
        "\n",
        "1 5 10 10 5 1\n"
      ]
    },
    {
      "cell_type": "code",
      "execution_count": 2,
      "metadata": {
        "id": "Bku8v9CjE_Qc"
      },
      "outputs": [
        {
          "name": "stdout",
          "output_type": "stream",
          "text": [
            "1 \n",
            "1 1 \n",
            "1 2 1 \n",
            "1 3 3 1 \n"
          ]
        }
      ],
      "source": [
        "import math\n",
        "\n",
        "\n",
        "def binom(n):\n",
        "    for i in range(n):\n",
        "        for j in range(i+1):\n",
        "            print(math.factorial(i)//(math.factorial(j)*math.factorial(i-j)), end= ' ')\n",
        "        print()\n",
        "\n",
        "\n",
        "def is_true_input(a):\n",
        "    try:\n",
        "        a = int(a)\n",
        "        if a > 0:\n",
        "            return True\n",
        "        else:\n",
        "            return False\n",
        "    except ValueError:\n",
        "        return False\n",
        "\n",
        "\n",
        "n = input('power: ')\n",
        "while not is_true_input:\n",
        "    n = input('power: ')\n",
        "n = int(n)\n",
        "\n",
        "\n",
        "binom(n)"
      ]
    },
    {
      "cell_type": "markdown",
      "metadata": {},
      "source": [
        "### **Завдання 2 (1 бал)**\n",
        "\n",
        "Реалізуйте генератор колоди карт (52 штуки). Кожна карта подається у вигляді рядка типу \"*5 diamonds*\".\n",
        "\n",
        "1. 4 масті (diamonds, clubs, hearts, spades) та 13 значень карт мають зберігатись у двох окремих списках (кортежах).\n",
        "\n",
        "2. Значення від 2 до 10 мають гереруватись за допомогою функції range().\n",
        "\n",
        "3. Окрім чисел, у списку значень мають бути присутніми елементи 'A' (Ace - туз), 'J' (Jack - валет), 'Q' (Queen - дама) та 'K' (King - король).\n",
        "\n",
        "4. Карти мають виводитись у порядку від 'A' до 'K'. Порядок виведення мастей не має значення.\n",
        "\n",
        "    *Приклад:*\n",
        "\n",
        "    А diamonds\n",
        "\n",
        "    2 diamonds\n",
        "\n",
        "    ...\n",
        "\n",
        "    K diamonds\n",
        "\n",
        "    A clubs\n",
        "\n",
        "    ...\n",
        "\n",
        "5. Кожна наступна карта має виводитись за допомогою функції next().\n",
        "\n",
        "6. Виведення карт має завершуватись виключенням StopIteration."
      ]
    },
    {
      "cell_type": "code",
      "execution_count": 18,
      "metadata": {},
      "outputs": [
        {
          "name": "stdout",
          "output_type": "stream",
          "text": [
            "A diamonds\n",
            "2 diamonds\n",
            "3 diamonds\n",
            "4 diamonds\n",
            "5 diamonds\n",
            "6 diamonds\n",
            "7 diamonds\n",
            "8 diamonds\n",
            "9 diamonds\n",
            "10 diamonds\n",
            "J diamonds\n",
            "Q diamonds\n",
            "K diamonds\n",
            "A clubs\n",
            "2 clubs\n",
            "3 clubs\n",
            "4 clubs\n",
            "5 clubs\n",
            "6 clubs\n",
            "7 clubs\n",
            "8 clubs\n",
            "9 clubs\n",
            "10 clubs\n",
            "J clubs\n",
            "Q clubs\n",
            "K clubs\n",
            "A hearts\n",
            "2 hearts\n",
            "3 hearts\n",
            "4 hearts\n",
            "5 hearts\n",
            "6 hearts\n",
            "7 hearts\n",
            "8 hearts\n",
            "9 hearts\n",
            "10 hearts\n",
            "J hearts\n",
            "Q hearts\n",
            "K hearts\n",
            "A spades\n",
            "2 spades\n",
            "3 spades\n",
            "4 spades\n",
            "5 spades\n",
            "6 spades\n",
            "7 spades\n",
            "8 spades\n",
            "9 spades\n",
            "10 spades\n",
            "J spades\n",
            "Q spades\n",
            "K spades\n",
            "End\n"
          ]
        }
      ],
      "source": [
        "suit = ['diamonds', 'clubs', 'hearts', 'spades']\n",
        "value = ['A'] + [i for i in range(2, 11)] + ['J', 'Q', 'K']\n",
        "\n",
        "\n",
        "def give_card(suit, value):\n",
        "        for item in suit:\n",
        "            for Item in value:\n",
        "                yield (str(Item) + ' ' + item)\n",
        "\n",
        "\n",
        "start = give_card(suit, value)\n",
        "try:\n",
        "    for n in range(100):\n",
        "        print(next(start))\n",
        "except StopIteration:\n",
        "    print('End') \n"
      ]
    },
    {
      "attachments": {},
      "cell_type": "markdown",
      "metadata": {},
      "source": [
        "### **Завдання 3 (3 бали)**\n",
        "\n",
        "Реалізуйте підрахунок площі трикутника з використанням декоратора, який перевірятиме можливість побудови трикутника з трьох введених користувачем сторін.\n",
        "\n",
        "1. Напишіть функцію area_calculation, яка підраховуватиме площу трикутника за трьома сторонами. Для підрахунку можете скористатись формулою Герона.\n",
        "\n",
        "2. Напишіть функцію check, яка перевірятиме правильність введених користувачем значень (значення мають бути додатними числами, не обов'язково цілими).\n",
        "\n",
        "3. Створіть декоратор triangle_ineq, який перевірятиме виконання нерівності трикутрика для трьох заданих користувачем сторін. Навісьте декоратор triangle_ineq на функція area_calculation та перевірте правильність роботи програми."
      ]
    },
    {
      "cell_type": "code",
      "execution_count": null,
      "metadata": {},
      "outputs": [],
      "source": [
        "def triangle_iner(func):\n",
        "\n",
        "    def check(a, b, c):\n",
        "        try:\n",
        "            a = float(a)\n",
        "            b = float(b)\n",
        "            c = float(c)\n",
        "            if a>0 and b>0 and c>0:\n",
        "                if c < (a+b) and b < (a+c) and a < (b+c):\n",
        "                    func(a, b, c)\n",
        "                else:\n",
        "                    print('Error, it`s not triangle')\n",
        "            else:\n",
        "                print('Error, value cann`t be negative')\n",
        "        except ValueError:\n",
        "            print('Error, value isn`t number')\n",
        "\n",
        "    return check\n",
        "\n",
        "@triangle_iner\n",
        "def area_calculate(a, b, c):\n",
        "    print('Area is: ' + str(round((((a+b+c)/2)*((a+b+c)/2-a)*((a+b+c)/2-b)*((a+b+c)/2-c))**0.5, 3)))\n",
        "\n",
        "\n",
        "a = input('A side is: ')\n",
        "b = input('B side is: ')\n",
        "c = input('C side is: ')\n",
        "area_calculate(a, b, c)"
      ]
    }
  ],
  "metadata": {
    "colab": {
      "collapsed_sections": [],
      "name": "Practice_10-11_KM_01_.ipynb",
      "provenance": []
    },
    "kernelspec": {
      "display_name": "Python 3.10.9 64-bit (microsoft store)",
      "language": "python",
      "name": "python3"
    },
    "language_info": {
      "codemirror_mode": {
        "name": "ipython",
        "version": 3
      },
      "file_extension": ".py",
      "mimetype": "text/x-python",
      "name": "python",
      "nbconvert_exporter": "python",
      "pygments_lexer": "ipython3",
      "version": "3.10.9"
    },
    "vscode": {
      "interpreter": {
        "hash": "3b7e9cb8e453d6cda0fe8c8dd13f891a1f09162f0e7c66ffeae7751a7aecf00d"
      }
    }
  },
  "nbformat": 4,
  "nbformat_minor": 0
}
