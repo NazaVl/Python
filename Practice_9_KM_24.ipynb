{
  "cells": [
    {
      "cell_type": "markdown",
      "metadata": {
        "id": "FMqboNwO4rVs"
      },
      "source": [
        "# **Курс \"Програмування на мові Python\"**"
      ]
    },
    {
      "cell_type": "markdown",
      "metadata": {
        "id": "A2T6MigL5Z06"
      },
      "source": [
        "## **Практичне зайняття №9**\n",
        "\n",
        "### Тема: \"Робота з функціями. Локальні та глобальні змінні\""
      ]
    },
    {
      "cell_type": "markdown",
      "metadata": {
        "id": "cfCdgK2zXm7e"
      },
      "source": [
        "### **Завдання 1 (3 бали)**\n",
        "\n",
        "**Підрахувати визначник матриці, використовуючи правило перестановок.**\n",
        "\n",
        "Функція random_matrix() призначена для створення квадратної матриці випадкових чисел. Її змінювати непотрібно.\n",
        "\n",
        "Приклад використання методу permutations() для створення списку перестановок також подається у комірці з кодом.\n",
        "\n",
        "1) Створити 3 функції: функцію створення списку перестановок, функцію підрахунку добутків та функцію підрахунку загальної суми.\n",
        "\n",
        "2) Кожна функція має супроводжуватись рядком документації, що буде коротко описувати її призначення.\n",
        "\n",
        "3) Розмірність квадратної матриці має вводитись користувачем з клавіатури. Підрахунки виконувати лише в тому разі, якщо користувач введе ціле додатне число.\n",
        "\n",
        "4) Загальний результат повинен підраховуватись за допомогою композиції функцій.\n",
        "\n",
        "За бажанням можна перевірити правильність роботи програми за допомогою функції np.linalg.det(a)."
      ]
    },
    {
      "cell_type": "code",
      "execution_count": 3,
      "metadata": {
        "id": "ifNX2M7LXm7f"
      },
      "outputs": [
        {
          "name": "stdout",
          "output_type": "stream",
          "text": [
            "size cann`t be negative\n",
            "size cann`t be this\n",
            "[[3 4 1]\n",
            " [5 7 7]\n",
            " [6 7 5]]\n",
            "----------\n",
            "det(A) is: 19\n",
            "det(A) as np.linalg.det(a): 19.0\n"
          ]
        }
      ],
      "source": [
        "import numpy as np\n",
        "import itertools\n",
        "\n",
        "\n",
        "def random_matrix(dim):\n",
        "    \"\"\"\n",
        "    The function generates dim x dim array of integers\n",
        "    between 0 and 10.\n",
        "    \"\"\"\n",
        "    matrix = np.random.randint(10, size = (dim, dim))\n",
        "    return matrix\n",
        "\n",
        "\n",
        "def factorial(n):\n",
        "    '''\n",
        "    Func return factorial of 'n'\n",
        "    '''\n",
        "    j = 1\n",
        "    for i in range(1, n+1):\n",
        "        j = j*i\n",
        "    return j\n",
        "\n",
        "\n",
        "def permutations_list(matrix):\n",
        "    '''\n",
        "    The fucntion return permutations(list_permutations) list for matrix and it`s sign(as 1 or -1)\n",
        "    '''\n",
        "    n = len(matrix)\n",
        "    permutations_index = list(itertools.permutations(list(i for i in range(1, n+1)), n))\n",
        "    list_ALL_permutations = []\n",
        "    for item in permutations_index:\n",
        "        k = 1\n",
        "        for i in range(len(item)):\n",
        "            list_ALL_permutations.append(int(matrix[i][int(item[i])-1]))    \n",
        "            for Item in range(i):\n",
        "                if item[Item] > item[i]:\n",
        "                    k *= -1\n",
        "        list_ALL_permutations.append(k)\n",
        "    list_permutations = np.array_split(list_ALL_permutations, factorial(n))\n",
        "    return list_permutations\n",
        "\n",
        "\n",
        "def calc_multiplication(list_permutations):\n",
        "    '''\n",
        "    The function finds the sign and product of permutations\n",
        "    '''\n",
        "    list_multiplication = []\n",
        "    for item in list_permutations:\n",
        "        list_multiplication.append(np.prod(item))\n",
        "    return list_multiplication\n",
        "\n",
        "\n",
        "def calc_sum(list_multiplication):\n",
        "    '''\n",
        "    The fucntion calculate det(A)\n",
        "    find sum of multiplication of permutation\n",
        "    '''\n",
        "    d = sum(list_multiplication)\n",
        "    return d\n",
        "\n",
        "\n",
        "def is_input_true(n):\n",
        "    try:\n",
        "        n = int(n)\n",
        "        if n >= 0:\n",
        "            return True\n",
        "        else:\n",
        "            print('size cann`t be negative')\n",
        "            return False\n",
        "    except ValueError:\n",
        "        print('size cann`t be this')\n",
        "        return False\n",
        "\n",
        "\n",
        "n = input('size matrix(n*n): ')\n",
        "while not is_input_true(n):\n",
        "    n = input('size matrix(n*n): ')\n",
        "n = int(n)\n",
        "\n",
        "\n",
        "matrix = random_matrix(n)\n",
        "print(matrix)\n",
        "print('-'*10)\n",
        "print('det(A) is: ' + str(calc_sum(calc_multiplication(permutations_list(matrix)))))\n",
        "print('det(A) as np.linalg.det(a): ' + str(round(np.linalg.det(matrix),3))) \n"
      ]
    }
  ],
  "metadata": {
    "colab": {
      "collapsed_sections": [],
      "name": "Practice_7_KM-01_.ipynb",
      "provenance": []
    },
    "kernelspec": {
      "display_name": "Python 3.10.8 64-bit (microsoft store)",
      "language": "python",
      "name": "python3"
    },
    "language_info": {
      "codemirror_mode": {
        "name": "ipython",
        "version": 3
      },
      "file_extension": ".py",
      "mimetype": "text/x-python",
      "name": "python",
      "nbconvert_exporter": "python",
      "pygments_lexer": "ipython3",
      "version": "3.10.9"
    },
    "vscode": {
      "interpreter": {
        "hash": "3b7e9cb8e453d6cda0fe8c8dd13f891a1f09162f0e7c66ffeae7751a7aecf00d"
      }
    }
  },
  "nbformat": 4,
  "nbformat_minor": 0
}
